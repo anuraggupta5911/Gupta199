{
 "cells": [
  {
   "cell_type": "code",
   "execution_count": null,
   "metadata": {},
   "outputs": [],
   "source": [
    "a= int(input(\"Enter a number\"))\n",
    "b= int(input(\"Enter a nubmer\"))\n",
    "print(\"Floor division :\",a//b)\n",
    "print(\"a power b :\",a**b)\n",
    "if a==b:\n",
    "    print(\"this is true\")\n",
    "else:\n",
    "    print(\"This is false\")"
   ]
  }
 ],
 "metadata": {
  "language_info": {
   "name": "python"
  },
  "orig_nbformat": 4
 },
 "nbformat": 4,
 "nbformat_minor": 2
}
